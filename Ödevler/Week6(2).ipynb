{
 "cells": [
  {
   "cell_type": "code",
   "execution_count": 1,
   "metadata": {},
   "outputs": [
    {
     "name": "stdout",
     "output_type": "stream",
     "text": [
      "Bir boyutlu array:  [1 2 3 4 5]\n",
      "Boyut:  1\n",
      "Eleman sayısı:  5\n"
     ]
    }
   ],
   "source": [
    "import numpy as np\n",
    "\n",
    "# Bir boyutlu array oluşturulur\n",
    "bir_boyutlu = np.array([1, 2, 3, 4, 5], dtype=int)\n",
    "print(\"Bir boyutlu array: \", bir_boyutlu)\n",
    "print(\"Boyut: \", bir_boyutlu.ndim)\n",
    "print(\"Eleman sayısı: \", bir_boyutlu.size)"
   ]
  },
  {
   "cell_type": "code",
   "execution_count": 2,
   "metadata": {},
   "outputs": [
    {
     "name": "stdout",
     "output_type": "stream",
     "text": [
      "\n",
      "İki boyutlu array: \n",
      " [[1 2 3]\n",
      " [4 5 6]]\n",
      "Boyut:  2\n",
      "Eleman sayısı:  6\n",
      "Satır, sütun:  (2, 3)\n",
      "\n",
      "Üç boyutlu array: \n",
      " [[[ 1  2  3]\n",
      "  [ 4  5  6]]\n",
      "\n",
      " [[ 7  8  9]\n",
      "  [10 11 12]]]\n",
      "Boyut:  3\n",
      "Eleman sayısı:  12\n",
      "Satır, sütun:  (2, 2, 3)\n"
     ]
    }
   ],
   "source": [
    "# İki boyutlu array oluşturulur\n",
    "iki_boyutlu = np.array([[1, 2, 3], [4, 5, 6]], dtype=int)\n",
    "print(\"\\nİki boyutlu array: \\n\", iki_boyutlu)\n",
    "print(\"Boyut: \", iki_boyutlu.ndim)\n",
    "print(\"Eleman sayısı: \", iki_boyutlu.size)\n",
    "print(\"Satır, sütun: \", iki_boyutlu.shape)\n",
    "\n",
    "# Üç boyutlu array oluşturulur\n",
    "uc_boyutlu = np.array([[[1, 2, 3], [4, 5, 6]], [[7, 8, 9], [10, 11, 12]]], dtype=int)\n",
    "print(\"\\nÜç boyutlu array: \\n\", uc_boyutlu)\n",
    "print(\"Boyut: \", uc_boyutlu.ndim)\n",
    "print(\"Eleman sayısı: \", uc_boyutlu.size)\n",
    "print(\"Satır, sütun: \", uc_boyutlu.shape)"
   ]
  },
  {
   "cell_type": "code",
   "execution_count": 3,
   "metadata": {},
   "outputs": [
    {
     "name": "stdout",
     "output_type": "stream",
     "text": [
      "\n",
      "İki boyutlu arrayin ilk satırı:  [1 2 3]\n",
      "Üç boyutlu arrayin ilk elemanı:  1\n"
     ]
    }
   ],
   "source": [
    "# Arrayler üzerinde indexleme ve dilimleme(slicing) işlemi\n",
    "print(\"\\nİki boyutlu arrayin ilk satırı: \", iki_boyutlu[0])\n",
    "print(\"Üç boyutlu arrayin ilk elemanı: \", uc_boyutlu[0, 0, 0])\n",
    "\n",
    "# Sıfırlardan oluşan ve birlerden oluşan iki tane iki boyutlu array oluşturulur\n",
    "sifirlar = np.zeros((2, 3))\n",
    "birler = np.ones((2, 3))"
   ]
  },
  {
   "cell_type": "code",
   "execution_count": 4,
   "metadata": {},
   "outputs": [
    {
     "name": "stdout",
     "output_type": "stream",
     "text": [
      "\n",
      "Satır bazında birleştirilmiş array: \n",
      " [[0. 0. 0.]\n",
      " [0. 0. 0.]\n",
      " [1. 1. 1.]\n",
      " [1. 1. 1.]]\n",
      "Sütun bazında birleştirilmiş array: \n",
      " [[0. 0. 0. 1. 1. 1.]\n",
      " [0. 0. 0. 1. 1. 1.]]\n"
     ]
    }
   ],
   "source": [
    "# Arrayler satır ve sütun bazında birleştirilir\n",
    "birlestirilmis_satir = np.concatenate((sifirlar, birler), axis=0)\n",
    "birlestirilmis_sutun = np.concatenate((sifirlar, birler), axis=1)\n",
    "\n",
    "print(\"\\nSatır bazında birleştirilmiş array: \\n\", birlestirilmis_satir)\n",
    "print(\"Sütun bazında birleştirilmiş array: \\n\", birlestirilmis_sutun)"
   ]
  }
 ],
 "metadata": {
  "kernelspec": {
   "display_name": "Python 3",
   "language": "python",
   "name": "python3"
  },
  "language_info": {
   "codemirror_mode": {
    "name": "ipython",
    "version": 3
   },
   "file_extension": ".py",
   "mimetype": "text/x-python",
   "name": "python",
   "nbconvert_exporter": "python",
   "pygments_lexer": "ipython3",
   "version": "3.10.12"
  }
 },
 "nbformat": 4,
 "nbformat_minor": 2
}
