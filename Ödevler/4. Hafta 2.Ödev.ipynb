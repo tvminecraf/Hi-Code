{
 "cells": [
  {
   "cell_type": "markdown",
   "metadata": {},
   "source": [
    "Ödev-1: Kullanıcıdan maaş bilgisini istenir ve bu bilgiye göre maaşından ne kadar vergi kesileceğini hesaplanır. Kullanıcının geliri;\n",
    "\n",
    "\n",
    " 10000 ve altındaysa maaşından %5 kesinti olur.  \n",
    " 25000 ve altındaysa maaşından %10 kesinti olur.   \n",
    " 45000 ve altındaysa maaşından %25 kesinti olur.  \n",
    " Diğer koşullarda %30 kesinti olur.  \n",
    "\n",
    "Bu durumlara göre kullanıcının yeni maaşı yazdırılır."
   ]
  },
  {
   "cell_type": "code",
   "execution_count": null,
   "metadata": {},
   "outputs": [],
   "source": [
    "salary = float(input(\"Enter your salary: \"))\n",
    "\n",
    "if salary <= 10000:\n",
    "    tax_deduction = salary * 0.05\n",
    "elif salary <= 25000:\n",
    "    tax_deduction = salary * 0.1\n",
    "elif salary <= 45000:\n",
    "    tax_deduction = salary * 0.25\n",
    "else:\n",
    "    tax_deduction = salary * 0.3\n",
    "\n",
    "new_salary = salary - tax_deduction\n",
    "print(\"Your new salary:\", new_salary)\n"
   ]
  },
  {
   "cell_type": "markdown",
   "metadata": {},
   "source": [
    "Ödev-2: Kullanıcıdan kullanıcı adı ve şifre oluşturmasını istenir. Şifrenin uzunluğu altı haneye ulaşmışsa hesabınız oluşturuldu mesajı alınır, altı haneden azsa altı haneli şifre oluşturması gerektiğinin mesajı alınır. (Sadece koşul kullanılması yeterli.)\n",
    "\n"
   ]
  },
  {
   "cell_type": "code",
   "execution_count": null,
   "metadata": {},
   "outputs": [],
   "source": [
    "username = input(\"Kullanıcı adınızı girin: \")\n",
    "password = input(\"Şifrenizi girin: \")\n",
    "\n",
    "if len(password) >= 6:\n",
    "    print(\"Hesabınız oluşturuldu.\")\n",
    "else:\n",
    "    print(\"Altı haneli bir şifre oluşturmanız gerekmektedir.\")\n"
   ]
  },
  {
   "cell_type": "markdown",
   "metadata": {},
   "source": [
    "Ödev-3: Bir önceki örnek geliştirilir.\n",
    "\n",
    "\n",
    " Kullanıcı girdiği şifre 5 ve 10 hane arasında olmak zorunda.  \n",
    " Eğer bu koşula uyuyorsa \"Hesabınız oluşturuldu.\" mesajı alır.  \n",
    " Koşulu sağlamıyorsa \"Lütfen girdiniz şifre 5 haneden az 10 haneden fazla olmasın!\" uyarısı alır.  \n",
    " Bunu oluştururken kullanıcı istediğimiz şartlarda şifre oluşturana kadar sormaya devam eder.  "
   ]
  },
  {
   "cell_type": "code",
   "execution_count": null,
   "metadata": {},
   "outputs": [],
   "source": [
    "username = input(\"Kullanıcı adınızı girin: \")\n",
    "password = input(\"Şifrenizi girin: \")\n",
    "\n",
    "while len(password) < 5 or len(password) > 10:\n",
    "    print(\"Lütfen girdiğiniz şifre 5 haneden az 10 haneden fazla olmasın!\")\n",
    "    password = input(\"Şifrenizi girin: \")\n",
    "\n",
    "print(\"Hesabınız oluşturuldu.\")\n"
   ]
  },
  {
   "cell_type": "markdown",
   "metadata": {},
   "source": [
    "Ödev-4: Kullanıcıdan isim ve şifre isteyeceğiz ve şifre girişi için üç hak verilir.\n",
    "\n",
    "\n",
    "1. Eğer önceden tanımlı şifre ile kullanıcıdan gelen şifre aynıysa \"Giriş yapıldı.\" yazar.  \n",
    "2. Şifre girişi yanlışsa \"Yanlış şifre girildi!\" uyarısı verilsin ve üç yanlış denemede program biter.  \n",
    "3. Tercihe göre kalan hak bilgisi verilir.  "
   ]
  },
  {
   "cell_type": "code",
   "execution_count": null,
   "metadata": {},
   "outputs": [],
   "source": [
    "username = input(\"Enter your username: \")\n",
    "password = input(\"Enter your password: \")\n",
    "\n",
    "pre_defined_password = \"password123\"\n",
    "remaining_attempts = 3\n",
    "\n",
    "while True:\n",
    "    if password == pre_defined_password:\n",
    "        print(\"Giriş başarılı.\")\n",
    "        break\n",
    "    else:\n",
    "        remaining_attempts -= 1\n",
    "        print(\"Yanlış şifre girildi!\")\n",
    "        break\n",
    "\n",
    "print(\"Maksimum deneme sayısına ulaşıldı. Program sonlandırılıyor.\")\n"
   ]
  }
 ],
 "metadata": {
  "language_info": {
   "name": "python"
  }
 },
 "nbformat": 4,
 "nbformat_minor": 2
}
