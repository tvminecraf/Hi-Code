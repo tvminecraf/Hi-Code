{
 "cells": [
  {
   "cell_type": "code",
   "execution_count": 1,
   "metadata": {},
   "outputs": [
    {
     "name": "stdout",
     "output_type": "stream",
     "text": [
      "Girilen öğrenci ismi veya ders ismi hatalı. Lütfen tekrar deneyin.\n"
     ]
    }
   ],
   "source": [
    "ogrenci_notlari = {\n",
    "    \"Ahmet\": {\"Matematik\": 90, \"Fizik\": 80, \"Kimya\": 70},\n",
    "    \"Mehmet\": {\"Matematik\": 85, \"Fizik\": 95, \"Kimya\": 100},\n",
    "    \"Ayşe\": {\"Matematik\": 92, \"Fizik\": 88, \"Kimya\": 96},\n",
    "}\n",
    "\n",
    "isim = input(\"Öğrenci ismini girin: \")\n",
    "ders = input(\"Ders ismini girin (Matematik, Fizik, Kimya): \")\n",
    "\n",
    "try:\n",
    "    print(f\"{isim} adlı öğrencinin {ders} notu: {ogrenci_notlari[isim][ders]}\")\n",
    "except KeyError:\n",
    "    print(\"Girilen öğrenci ismi veya ders ismi hatalı. Lütfen tekrar deneyin.\")"
   ]
  },
  {
   "cell_type": "code",
   "execution_count": 4,
   "metadata": {},
   "outputs": [
    {
     "name": "stdout",
     "output_type": "stream",
     "text": [
      "ali adlı öğrenci eklendi. ve notları: {'Matematik': 12, 'Fizik': 15, 'Kimya': 20}\n"
     ]
    }
   ],
   "source": [
    "yeni_isim = input(\"Yeni öğrenci ismini girin: \")\n",
    "yeni_matematik_notu = int(input(\"Yeni öğrencinin Matematik notunu girin: \"))\n",
    "yeni_fizik_notu = int(input(\"Yeni öğrencinin Fizik notunu girin: \"))\n",
    "yeni_kimya_notu = int(input(\"Yeni öğrencinin Kimya notunu girin: \"))\n",
    "\n",
    "ogrenci_notlari[yeni_isim] = {\"Matematik\": yeni_matematik_notu, \"Fizik\": yeni_fizik_notu, \"Kimya\": yeni_kimya_notu}\n",
    "print(f\"{yeni_isim} adlı öğrenci eklendi. ve notları: {ogrenci_notlari[yeni_isim]}\")\n"
   ]
  },
  {
   "cell_type": "code",
   "execution_count": 5,
   "metadata": {},
   "outputs": [
    {
     "name": "stdout",
     "output_type": "stream",
     "text": [
      "Mehmet adlı öğrencinin Fizik notu 30 olarak güncellendi.\n"
     ]
    }
   ],
   "source": [
    "degisiklik_yapilacak_ogrenci = input(\"Değişiklik yapılacak öğrencinin ismini girin: \")\n",
    "degisiklik_yapilacak_ders = input(\"Değişiklik yapılacak dersin ismini girin (Matematik, Fizik, Kimya): \")\n",
    "yeni_not = int(input(\"Yeni notu girin: \"))\n",
    "\n",
    "try:\n",
    "    ogrenci_notlari[degisiklik_yapilacak_ogrenci][degisiklik_yapilacak_ders] = yeni_not\n",
    "    print(f\"{degisiklik_yapilacak_ogrenci} adlı öğrencinin {degisiklik_yapilacak_ders} notu {yeni_not} olarak güncellendi.\")\n",
    "except KeyError:\n",
    "    print(\"Girilen öğrenci ismi veya ders ismi hatalı. Lütfen tekrar deneyin.\")"
   ]
  }
 ],
 "metadata": {
  "kernelspec": {
   "display_name": "Python 3",
   "language": "python",
   "name": "python3"
  },
  "language_info": {
   "codemirror_mode": {
    "name": "ipython",
    "version": 3
   },
   "file_extension": ".py",
   "mimetype": "text/x-python",
   "name": "python",
   "nbconvert_exporter": "python",
   "pygments_lexer": "ipython3",
   "version": "3.10.12"
  }
 },
 "nbformat": 4,
 "nbformat_minor": 2
}
