{
 "cells": [
  {
   "cell_type": "markdown",
   "metadata": {},
   "source": [
    "Ödev-1: Değişkenlere atanmış değerlerin veri tipleri arasında dönüşüm yapılır."
   ]
  },
  {
   "cell_type": "code",
   "execution_count": 5,
   "metadata": {},
   "outputs": [
    {
     "name": "stdout",
     "output_type": "stream",
     "text": [
      "5\n",
      "\u0005\n",
      "5.6\n",
      "True\n",
      "5.0\n"
     ]
    }
   ],
   "source": [
    "x = 5.6\n",
    "\n",
    "int_x = int(x)\n",
    "char_x = chr(int(x))\n",
    "str_x = str(x)\n",
    "bool_x = bool(x)\n",
    "\n",
    "print(int_x)\n",
    "print(char_x)\n",
    "print(str_x)\n",
    "print(bool_x)\n",
    "\n",
    "\n",
    "y = 5\n",
    "\n",
    "float_y = float(y)\n",
    "print(float_y)"
   ]
  },
  {
   "cell_type": "markdown",
   "metadata": {},
   "source": [
    "Ödev-2: İsimlerden oluşan üç değişkene yaş değerleri atanır. Belirlenen üç değişken birbiriyle karşılaştırma operatörleri ile karşılaştırılır. Bu karşılaştırmalara mantıksal operatörler de eklenir."
   ]
  },
  {
   "cell_type": "code",
   "execution_count": 6,
   "metadata": {},
   "outputs": [
    {
     "data": {
      "text/plain": [
       "False"
      ]
     },
     "execution_count": 6,
     "metadata": {},
     "output_type": "execute_result"
    }
   ],
   "source": [
    "name1 = \"Ali\"\n",
    "name2 = \"Ayşe\"\n",
    "name3 = \"Emre\"\n",
    "\n",
    "age1 = 25\n",
    "age2 = 30\n",
    "age3 = 35\n",
    "\n",
    "comparison1 = age1 > age2\n",
    "comparison2 = age2 < age3\n",
    "comparison3 = age1 >= age3\n",
    "\n",
    "result = comparison1 and comparison2 or comparison3\n",
    "\n",
    "result\n"
   ]
  },
  {
   "cell_type": "markdown",
   "metadata": {},
   "source": [
    "Ödev-3: Kullanıcıdan iki değer girmesini istenir. Girilen değerlerin toplama, çıkarma, çarpma, bölme sonuçlarını yazdırılır."
   ]
  },
  {
   "cell_type": "code",
   "execution_count": 7,
   "metadata": {},
   "outputs": [
    {
     "name": "stdout",
     "output_type": "stream",
     "text": [
      "Toplama: 30.0\n",
      "Çıkartma: -10.0\n",
      "Çarpma: 200.0\n",
      "Bölme: 0.5\n"
     ]
    }
   ],
   "source": [
    "num1 = float(input(\"İlk sayıyı giriniz: \"))\n",
    "num2 = float(input(\"İkinci sayıyı giriniz: \"))\n",
    "\n",
    "addition = num1 + num2\n",
    "subtraction = num1 - num2\n",
    "multiplication = num1 * num2\n",
    "division = num1 / num2\n",
    "\n",
    "print(\"Toplama:\", addition)\n",
    "print(\"Çıkartma:\", subtraction)\n",
    "print(\"Çarpma:\", multiplication)\n",
    "print(\"Bölme:\", division)\n"
   ]
  },
  {
   "cell_type": "markdown",
   "metadata": {},
   "source": [
    "Ödev-4: Kullanıcıdan isim, yaş, şehir ve meslek bilgilerini istenir ve cevaplarını yazdırılır."
   ]
  },
  {
   "cell_type": "code",
   "execution_count": 8,
   "metadata": {},
   "outputs": [
    {
     "name": "stdout",
     "output_type": "stream",
     "text": [
      "İsim: Emre,\n",
      "Yaş: 23\n",
      "Şehir: Adana\n",
      "Meslek: Öğrenci\n"
     ]
    }
   ],
   "source": [
    "name = input(\"İsim: \")\n",
    "age = input(\"Yaş: \")\n",
    "city = input(\"Şehir: \")\n",
    "job = input(\"Meslek: \")\n",
    "\n",
    "print(\"İsim:\", name)\n",
    "print(\"Yaş:\", age)\n",
    "print(\"Şehir:\", city)\n",
    "print(\"Meslek:\", job)\n"
   ]
  },
  {
   "cell_type": "markdown",
   "metadata": {},
   "source": [
    "Ödev-5: \"Hi-Kod Veri Bilimi Atölyesi\" ifadesini bir değişkene tanımlanır.\n",
    "\n",
    "\n",
    " İfadedeki her bir kelimeyi (\"Hi-Kod\", \"Veri\", \"Bilimi\", \"Atölyesi\") değişken içinden seçilir. \n",
    " İfadeyi hepsini büyük harf olacak hale çevrilir. (\"HI-KOD VERİ BİLİMİ ATÖLYESİ\") \n",
    " İfadeyi hepsini büyük harf olacak hale çevrilir.(\"hi-kod veri bilimi atölyesi\") \n",
    "\n",
    "\"0123456789\" ifadesindeki yalnızca çift sayıları ve yalnızca tek sayıları seçilir. (\"02468\", \"13579\")"
   ]
  },
  {
   "cell_type": "code",
   "execution_count": 9,
   "metadata": {},
   "outputs": [
    {
     "name": "stdout",
     "output_type": "stream",
     "text": [
      "['Hi-Kod', 'Veri', 'Bilimi', 'Atölyesi']\n",
      "HI-KOD VERI BILIMI ATÖLYESI\n",
      "hi-kod veri bilimi atölyesi\n"
     ]
    }
   ],
   "source": [
    "text = \"Hi-Kod Veri Bilimi Atölyesi\"\n",
    "\n",
    "words = text.split()\n",
    "\n",
    "print(words)\n",
    "\n",
    "uppercase_text = text.upper()\n",
    "lowercase_text = text.lower()\n",
    "\n",
    "print(uppercase_text)\n",
    "print(lowercase_text)\n",
    "\n"
   ]
  },
  {
   "cell_type": "markdown",
   "metadata": {},
   "source": [
    "6. Ödev:\"0123456789\" ifadesindeki yalnızca çift sayıları ve yalnızca tek sayıları seçilir. (\"02468\", \"13579\")"
   ]
  },
  {
   "cell_type": "code",
   "execution_count": 10,
   "metadata": {},
   "outputs": [
    {
     "name": "stdout",
     "output_type": "stream",
     "text": [
      "Even numbers: 02468\n",
      "Odd numbers: 13579\n"
     ]
    }
   ],
   "source": [
    "numbers = \"0123456789\"\n",
    "\n",
    "even_numbers = \"\"\n",
    "odd_numbers = \"\"\n",
    "\n",
    "for i in range(len(numbers)):\n",
    "    if i % 2 == 0:\n",
    "        even_numbers += numbers[i]\n",
    "    else:\n",
    "        odd_numbers += numbers[i]\n",
    "\n",
    "print(\"Çift Sayılar:\", even_numbers)\n",
    "print(\"Tek Sayılar:\", odd_numbers)\n"
   ]
  }
 ],
 "metadata": {
  "kernelspec": {
   "display_name": "Python 3",
   "language": "python",
   "name": "python3"
  },
  "language_info": {
   "codemirror_mode": {
    "name": "ipython",
    "version": 3
   },
   "file_extension": ".py",
   "mimetype": "text/x-python",
   "name": "python",
   "nbconvert_exporter": "python",
   "pygments_lexer": "ipython3",
   "version": "3.11.6"
  }
 },
 "nbformat": 4,
 "nbformat_minor": 2
}
