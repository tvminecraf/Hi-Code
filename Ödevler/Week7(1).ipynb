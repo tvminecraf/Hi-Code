{
 "cells": [
  {
   "cell_type": "code",
   "execution_count": 1,
   "metadata": {},
   "outputs": [],
   "source": [
    "sozluk = {\"Kategori\": [\"Giyim\",\"Giyim\", \"Ayakkabı\",\"Aksesuar\",\"Ayakkabı\",\"Giyim\",\"Aksesuar\",\"Aksesuar\",\"Ayakkabı\",\"Giyim\"],\n",
    "\"Ürün\" : [\"Kazak\",\"T-shirt\",\"Sandalet\",\"Küpe\",\"Spor Ayakkabı\",\"Pantolon\",\"Kolye\",\"Yüzük\",\"Çizme\",\"Ceket\"],\n",
    "\"Fiyat\" : [300,180,450,50,700,400,150,80,850,900]}"
   ]
  },
  {
   "cell_type": "code",
   "execution_count": 2,
   "metadata": {},
   "outputs": [],
   "source": [
    "import pandas as pd\n",
    "\n",
    "# Sözlük DataFrame'e dönüştürülür\n",
    "df = pd.DataFrame(sozluk)"
   ]
  },
  {
   "cell_type": "code",
   "execution_count": 3,
   "metadata": {},
   "outputs": [
    {
     "name": "stdout",
     "output_type": "stream",
     "text": [
      "2. indexteki kategori:  Ayakkabı\n",
      "2. indexteki ürün:  Sandalet\n",
      "\n",
      "4.indexten 9.indexe kadar olan veriler: \n",
      "    Kategori           Ürün  Fiyat\n",
      "4  Ayakkabı  Spor Ayakkabı    700\n",
      "5     Giyim       Pantolon    400\n",
      "6  Aksesuar          Kolye    150\n",
      "7  Aksesuar          Yüzük     80\n",
      "8  Ayakkabı          Çizme    850\n",
      "9     Giyim          Ceket    900\n",
      "\n",
      "1.indexten 6.indexe kadar olan ürünler: \n",
      " 1          T-shirt\n",
      "2         Sandalet\n",
      "3             Küpe\n",
      "4    Spor Ayakkabı\n",
      "5         Pantolon\n",
      "6            Kolye\n",
      "Name: Ürün, dtype: object\n"
     ]
    }
   ],
   "source": [
    "# 2.indexte bulunan kategori ve ürün bulunur\n",
    "print(\"2. indexteki kategori: \", df.loc[2, \"Kategori\"])\n",
    "print(\"2. indexteki ürün: \", df.loc[2, \"Ürün\"])\n",
    "# 4.indexten 9.indexe kadar olan veriler bulunur\n",
    "print(\"\\n4.indexten 9.indexe kadar olan veriler: \\n\", df.loc[4:9])\n",
    "# 1.indexten 6.indexe kadar olan ürünler bulunur\n",
    "print(\"\\n1.indexten 6.indexe kadar olan ürünler: \\n\", df.loc[1:6, \"Ürün\"])"
   ]
  },
  {
   "cell_type": "code",
   "execution_count": 4,
   "metadata": {},
   "outputs": [
    {
     "name": "stdout",
     "output_type": "stream",
     "text": [
      "\n",
      "Giyim kategorisindeki ürünler: \n",
      " 0       Kazak\n",
      "1     T-shirt\n",
      "5    Pantolon\n",
      "9       Ceket\n",
      "Name: Ürün, dtype: object\n",
      "\n",
      "Ayakkabı kategorisindeki ürünler: \n",
      " 2         Sandalet\n",
      "4    Spor Ayakkabı\n",
      "8            Çizme\n",
      "Name: Ürün, dtype: object\n",
      "\n",
      "Aksesuar kategorisindeki ürünler: \n",
      " 3     Küpe\n",
      "6    Kolye\n",
      "7    Yüzük\n",
      "Name: Ürün, dtype: object\n"
     ]
    }
   ],
   "source": [
    "# Giyim, Ayakkabı ve Aksesuar kategorisinde bulunan ürünler gösterilir\n",
    "print(\"\\nGiyim kategorisindeki ürünler: \\n\", df[df[\"Kategori\"] == \"Giyim\"][\"Ürün\"])\n",
    "print(\"\\nAyakkabı kategorisindeki ürünler: \\n\", df[df[\"Kategori\"] == \"Ayakkabı\"][\"Ürün\"])\n",
    "print(\"\\nAksesuar kategorisindeki ürünler: \\n\", df[df[\"Kategori\"] == \"Aksesuar\"][\"Ürün\"])"
   ]
  },
  {
   "cell_type": "code",
   "execution_count": 5,
   "metadata": {},
   "outputs": [
    {
     "name": "stdout",
     "output_type": "stream",
     "text": [
      "\n",
      "Giyim kategorisinde fiyatı 300'den fazla olan ürünler: \n",
      " 5    Pantolon\n",
      "9       Ceket\n",
      "Name: Ürün, dtype: object\n",
      "\n",
      "Ayakkabı kategorisinde fiyatı 600'den az olan ürünler: \n",
      " 2    Sandalet\n",
      "Name: Ürün, dtype: object\n",
      "\n",
      "Aksesuar kategorisinde fiyatı 100'den fazla olan aksesuarlar: \n",
      " 6    Kolye\n",
      "Name: Ürün, dtype: object\n"
     ]
    }
   ],
   "source": [
    "# Giyim, Ayakkabı ve Aksesuar kategorisinde belirli fiyat aralığındaki ürünler gösterilir\n",
    "print(\"\\nGiyim kategorisinde fiyatı 300'den fazla olan ürünler: \\n\", df[(df[\"Kategori\"] == \"Giyim\") & (df[\"Fiyat\"] > 300)][\"Ürün\"])\n",
    "print(\"\\nAyakkabı kategorisinde fiyatı 600'den az olan ürünler: \\n\", df[(df[\"Kategori\"] == \"Ayakkabı\") & (df[\"Fiyat\"] < 600)][\"Ürün\"])\n",
    "print(\"\\nAksesuar kategorisinde fiyatı 100'den fazla olan aksesuarlar: \\n\", df[(df[\"Kategori\"] == \"Aksesuar\") & (df[\"Fiyat\"] > 100)][\"Ürün\"])"
   ]
  }
 ],
 "metadata": {
  "kernelspec": {
   "display_name": "Python 3",
   "language": "python",
   "name": "python3"
  },
  "language_info": {
   "codemirror_mode": {
    "name": "ipython",
    "version": 3
   },
   "file_extension": ".py",
   "mimetype": "text/x-python",
   "name": "python",
   "nbconvert_exporter": "python",
   "pygments_lexer": "ipython3",
   "version": "3.10.12"
  }
 },
 "nbformat": 4,
 "nbformat_minor": 2
}
